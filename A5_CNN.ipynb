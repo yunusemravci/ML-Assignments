{
  "nbformat": 4,
  "nbformat_minor": 0,
  "metadata": {
    "colab": {
      "provenance": [],
      "authorship_tag": "ABX9TyPJPOERBLF0aBY5RtqxTsCT",
      "include_colab_link": true
    },
    "kernelspec": {
      "name": "python3",
      "display_name": "Python 3"
    },
    "language_info": {
      "name": "python"
    }
  },
  "cells": [
    {
      "cell_type": "markdown",
      "metadata": {
        "id": "view-in-github",
        "colab_type": "text"
      },
      "source": [
        "<a href=\"https://colab.research.google.com/github/yunusemravci/ML-Assignments/blob/master/A5_CNN.ipynb\" target=\"_parent\"><img src=\"https://colab.research.google.com/assets/colab-badge.svg\" alt=\"Open In Colab\"/></a>"
      ]
    },
    {
      "cell_type": "code",
      "execution_count": null,
      "metadata": {
        "colab": {
          "base_uri": "https://localhost:8080/"
        },
        "id": "_P24q9aLHWZN",
        "outputId": "fae3c933-355d-4ee6-e6ca-38649ab52848"
      },
      "outputs": [
        {
          "output_type": "stream",
          "name": "stdout",
          "text": [
            "Mounted at /content/drive/\n"
          ]
        }
      ],
      "source": [
        "from google.colab import drive\n",
        "drive.mount('/content/drive/')"
      ]
    },
    {
      "cell_type": "code",
      "source": [
        "import scipy.io\n",
        "import numpy as np\n",
        "from skimage.transform import resize\n",
        "from tensorflow.keras.utils import to_categorical\n",
        "from tensorflow.keras.models import Sequential\n",
        "from tensorflow.keras.layers import Conv2D, MaxPooling2D, Flatten, Dense, Dropout\n",
        "from sklearn.metrics import classification_report, confusion_matrix\n",
        "import matplotlib.pyplot as plt"
      ],
      "metadata": {
        "id": "LLzUmALdHe3r"
      },
      "execution_count": null,
      "outputs": []
    },
    {
      "cell_type": "markdown",
      "source": [
        "#### Load train and test set"
      ],
      "metadata": {
        "id": "vMLga3yxhd8M"
      }
    },
    {
      "cell_type": "code",
      "source": [
        "train_set = scipy.io.loadmat('/content/drive/MyDrive/HW5-ML/trainset.mat')\n",
        "test_set = scipy.io.loadmat('/content/drive/MyDrive/HW5-ML/testset.mat')"
      ],
      "metadata": {
        "id": "5h0iilSYHh5h"
      },
      "execution_count": null,
      "outputs": []
    },
    {
      "cell_type": "markdown",
      "source": [
        "#### Extracting Images and Labels"
      ],
      "metadata": {
        "id": "qFmlXnM_h1X5"
      }
    },
    {
      "cell_type": "code",
      "source": [
        "# Extract training images and labels\n",
        "train_images = train_set['X']\n",
        "train_labels = train_set['Y']\n",
        "\n",
        "# Extract test images and labels\n",
        "test_images = test_set['X']\n",
        "test_labels = test_set['Y']"
      ],
      "metadata": {
        "id": "qefryjEFHn4q"
      },
      "execution_count": null,
      "outputs": []
    },
    {
      "cell_type": "markdown",
      "source": [
        "#### Resize and Normalize The Images"
      ],
      "metadata": {
        "id": "ZdeJKwj5himv"
      }
    },
    {
      "cell_type": "code",
      "source": [
        "# Resize images to 32x32 and normalize\n",
        "train_images_resized = np.array([resize(image, (32, 32)) for image in train_images])\n",
        "test_images_resized = np.array([resize(image, (32, 32)) for image in test_images])\n",
        "\n",
        "train_images_normalized = train_images_resized / 255.0\n",
        "test_images_normalized = test_images_resized / 255.0"
      ],
      "metadata": {
        "id": "BSBgWA-4HwX2"
      },
      "execution_count": null,
      "outputs": []
    },
    {
      "cell_type": "markdown",
      "source": [
        "#### One-hot Encoding"
      ],
      "metadata": {
        "id": "mKx8px4whrMu"
      }
    },
    {
      "cell_type": "code",
      "source": [
        "# Convert labels to one-hot encoded vectors\n",
        "train_labels_one_hot = to_categorical(train_labels, num_classes=43)\n",
        "test_labels_one_hot = to_categorical(test_labels, num_classes=43)"
      ],
      "metadata": {
        "id": "ZJoq6U-tHz5x"
      },
      "execution_count": null,
      "outputs": []
    },
    {
      "cell_type": "markdown",
      "source": [
        "#### CNN Model"
      ],
      "metadata": {
        "id": "Va41U4O1iyoL"
      }
    },
    {
      "cell_type": "code",
      "source": [
        "# Define the CNN model\n",
        "model = Sequential()\n",
        "\n",
        "# Convolutional layers\n",
        "model.add(Conv2D(filters=32, kernel_size=(3, 3), activation='relu', input_shape=(32, 32, 3)))\n",
        "model.add(MaxPooling2D(pool_size=(2, 2)))\n",
        "\n",
        "model.add(Conv2D(filters=64, kernel_size=(3, 3), activation='relu'))\n",
        "model.add(MaxPooling2D(pool_size=(2, 2)))\n",
        "\n",
        "model.add(Conv2D(filters=128, kernel_size=(3, 3), activation='relu'))\n",
        "model.add(MaxPooling2D(pool_size=(2, 2)))\n",
        "\n",
        "# Flattening the 2D arrays for fully connected layers\n",
        "model.add(Flatten())\n",
        "\n",
        "# Dense layers\n",
        "model.add(Dense(512, activation='softmax'))\n",
        "model.add(Dropout(0.5))  # Dropout to avoid overfitting\n",
        "model.add(Dense(43, activation='softmax'))  # 43 classes for GTSRB\n",
        "\n"
      ],
      "metadata": {
        "id": "RA_nO0IiHiNg"
      },
      "execution_count": null,
      "outputs": []
    },
    {
      "cell_type": "markdown",
      "source": [
        "#### Compile and Fit the Model"
      ],
      "metadata": {
        "id": "Fts4BnNajS9e"
      }
    },
    {
      "cell_type": "code",
      "source": [
        "# Compile the model\n",
        "model.compile(optimizer='adam',\n",
        "              loss='categorical_crossentropy',\n",
        "              metrics=['accuracy'])\n",
        "\n",
        "history = model.fit(train_images_normalized, train_labels_one_hot,\n",
        "                    epochs=20,\n",
        "                    batch_size=32,\n",
        "                    validation_split=0.2)"
      ],
      "metadata": {
        "colab": {
          "base_uri": "https://localhost:8080/"
        },
        "id": "TgN1mIwRjOKa",
        "outputId": "d9a1b9e1-191c-403f-d1ed-707b9cd38fb3"
      },
      "execution_count": null,
      "outputs": [
        {
          "output_type": "stream",
          "name": "stdout",
          "text": [
            "Epoch 1/20\n",
            "981/981 [==============================] - 60s 59ms/step - loss: 3.3127 - accuracy: 0.0695 - val_loss: 8.4228 - val_accuracy: 0.0000e+00\n",
            "Epoch 2/20\n",
            "981/981 [==============================] - 66s 67ms/step - loss: 2.4785 - accuracy: 0.2580 - val_loss: 23.6832 - val_accuracy: 0.0000e+00\n",
            "Epoch 3/20\n",
            "981/981 [==============================] - 55s 56ms/step - loss: 1.3774 - accuracy: 0.5436 - val_loss: 26.7702 - val_accuracy: 0.0287\n",
            "Epoch 4/20\n",
            "981/981 [==============================] - 62s 63ms/step - loss: 0.9373 - accuracy: 0.6940 - val_loss: 34.3947 - val_accuracy: 0.0479\n",
            "Epoch 5/20\n",
            "981/981 [==============================] - 60s 61ms/step - loss: 0.6539 - accuracy: 0.7898 - val_loss: 36.5606 - val_accuracy: 0.0393\n",
            "Epoch 6/20\n",
            "981/981 [==============================] - 57s 58ms/step - loss: 0.4676 - accuracy: 0.8513 - val_loss: 35.4270 - val_accuracy: 0.0485\n",
            "Epoch 7/20\n",
            "981/981 [==============================] - 63s 64ms/step - loss: 0.3500 - accuracy: 0.8919 - val_loss: 39.3450 - val_accuracy: 0.0450\n",
            "Epoch 8/20\n",
            "981/981 [==============================] - 59s 60ms/step - loss: 0.2716 - accuracy: 0.9168 - val_loss: 37.2997 - val_accuracy: 0.0491\n",
            "Epoch 9/20\n",
            "981/981 [==============================] - 58s 59ms/step - loss: 0.2138 - accuracy: 0.9345 - val_loss: 38.9507 - val_accuracy: 0.0501\n",
            "Epoch 10/20\n",
            "981/981 [==============================] - 56s 57ms/step - loss: 0.1778 - accuracy: 0.9468 - val_loss: 40.7266 - val_accuracy: 0.0508\n",
            "Epoch 11/20\n",
            "981/981 [==============================] - 62s 64ms/step - loss: 0.1467 - accuracy: 0.9572 - val_loss: 42.9313 - val_accuracy: 0.0510\n",
            "Epoch 12/20\n",
            "981/981 [==============================] - 57s 58ms/step - loss: 0.1252 - accuracy: 0.9631 - val_loss: 39.8555 - val_accuracy: 0.0506\n",
            "Epoch 13/20\n",
            "981/981 [==============================] - 57s 58ms/step - loss: 0.1109 - accuracy: 0.9682 - val_loss: 42.4786 - val_accuracy: 0.0505\n",
            "Epoch 14/20\n",
            "981/981 [==============================] - 59s 60ms/step - loss: 0.0964 - accuracy: 0.9712 - val_loss: 42.7868 - val_accuracy: 0.0509\n",
            "Epoch 15/20\n",
            "981/981 [==============================] - 62s 63ms/step - loss: 0.0845 - accuracy: 0.9755 - val_loss: 46.4020 - val_accuracy: 0.0504\n",
            "Epoch 16/20\n",
            "981/981 [==============================] - 57s 58ms/step - loss: 0.0768 - accuracy: 0.9770 - val_loss: 45.5245 - val_accuracy: 0.0510\n",
            "Epoch 17/20\n",
            "981/981 [==============================] - 57s 58ms/step - loss: 0.0699 - accuracy: 0.9789 - val_loss: 46.8290 - val_accuracy: 0.0497\n",
            "Epoch 18/20\n",
            "981/981 [==============================] - 73s 74ms/step - loss: 0.0632 - accuracy: 0.9810 - val_loss: 45.5492 - val_accuracy: 0.0510\n",
            "Epoch 19/20\n",
            "981/981 [==============================] - 58s 59ms/step - loss: 0.0579 - accuracy: 0.9823 - val_loss: 45.8738 - val_accuracy: 0.0510\n",
            "Epoch 20/20\n",
            "981/981 [==============================] - 57s 58ms/step - loss: 0.0563 - accuracy: 0.9819 - val_loss: 45.6983 - val_accuracy: 0.0509\n"
          ]
        }
      ]
    },
    {
      "cell_type": "markdown",
      "source": [
        "#### Classification Report"
      ],
      "metadata": {
        "id": "I8YCtx_oj22t"
      }
    },
    {
      "cell_type": "code",
      "source": [
        "# Make predictions\n",
        "predictions = model.predict(test_images_normalized)\n",
        "predicted_classes = np.argmax(predictions, axis=1)\n",
        "# Compute the classification report\n",
        "\n",
        "print(classification_report(np.argmax(test_labels_one_hot, axis=1), predicted_classes, zero_division=0))"
      ],
      "metadata": {
        "colab": {
          "base_uri": "https://localhost:8080/"
        },
        "id": "vK8rn5-Lj1nw",
        "outputId": "9bee32e7-f603-4edb-87d1-a733926bd7aa"
      },
      "execution_count": null,
      "outputs": [
        {
          "output_type": "stream",
          "name": "stdout",
          "text": [
            "395/395 [==============================] - 6s 14ms/step\n",
            "              precision    recall  f1-score   support\n",
            "\n",
            "           0       0.40      0.78      0.53        60\n",
            "           1       0.60      0.98      0.75       720\n",
            "           2       0.70      0.98      0.81       660\n",
            "           3       0.94      0.93      0.93       420\n",
            "           4       0.90      0.96      0.93       690\n",
            "           5       0.96      0.99      0.98       720\n",
            "           6       0.98      0.99      0.99       270\n",
            "           7       0.97      0.99      0.98       210\n",
            "           8       0.57      0.99      0.72       150\n",
            "           9       0.99      0.92      0.96       360\n",
            "          10       0.86      0.80      0.83       390\n",
            "          11       0.91      0.48      0.63        60\n",
            "          12       0.51      0.96      0.67       750\n",
            "          13       0.89      1.00      0.94        90\n",
            "          14       0.77      0.53      0.63        90\n",
            "          15       0.78      0.95      0.85       120\n",
            "          16       0.79      0.83      0.81       150\n",
            "          17       0.93      0.78      0.85        90\n",
            "          18       0.93      0.93      0.93       480\n",
            "          19       0.82      0.78      0.80       180\n",
            "          20       0.88      0.50      0.64        60\n",
            "          21       0.86      0.91      0.89       150\n",
            "          22       0.63      0.71      0.67        90\n",
            "          23       0.47      0.99      0.64       450\n",
            "          24       0.66      0.66      0.66       150\n",
            "          25       0.76      0.99      0.86       270\n",
            "          26       0.43      1.00      0.60        60\n",
            "          27       0.92      1.00      0.96       210\n",
            "          28       0.98      0.98      0.98       120\n",
            "          29       1.00      0.93      0.97       390\n",
            "          30       0.99      0.93      0.96       120\n",
            "          31       0.72      1.00      0.84        60\n",
            "          32       0.94      0.99      0.96       690\n",
            "          33       0.71      0.71      0.71        90\n",
            "          34       0.73      0.91      0.81       660\n",
            "          35       0.00      0.00      0.00        90\n",
            "          36       0.00      0.00      0.00        60\n",
            "          37       0.00      0.00      0.00        90\n",
            "          38       0.00      0.00      0.00       630\n",
            "          39       0.00      0.00      0.00       150\n",
            "          40       0.00      0.00      0.00       450\n",
            "          41       0.00      0.00      0.00       450\n",
            "          42       0.00      0.00      0.00       480\n",
            "\n",
            "    accuracy                           0.75     12630\n",
            "   macro avg       0.65      0.72      0.67     12630\n",
            "weighted avg       0.65      0.75      0.69     12630\n",
            "\n"
          ]
        }
      ]
    },
    {
      "cell_type": "markdown",
      "source": [
        "#### Model Evaluation"
      ],
      "metadata": {
        "id": "1Qreb4h3lQGT"
      }
    },
    {
      "cell_type": "code",
      "source": [
        "# Evaluate the model\n",
        "test_loss, test_accuracy = model.evaluate(test_images_normalized, test_labels_one_hot)\n",
        "print(f\"Test accuracy: {test_accuracy * 100:.2f}%\")"
      ],
      "metadata": {
        "colab": {
          "base_uri": "https://localhost:8080/"
        },
        "id": "IGs3ZdhXlOd3",
        "outputId": "937ab7f8-e3b2-477e-e317-fa170eae5be7"
      },
      "execution_count": null,
      "outputs": [
        {
          "output_type": "stream",
          "name": "stdout",
          "text": [
            "395/395 [==============================] - 6s 16ms/step - loss: 9.9278 - accuracy: 0.7547\n",
            "Test accuracy: 75.47%\n"
          ]
        }
      ]
    },
    {
      "cell_type": "markdown",
      "source": [
        "#### Plot Training and Validation"
      ],
      "metadata": {
        "id": "ZlcP_-lxjbZo"
      }
    },
    {
      "cell_type": "code",
      "source": [
        "# Plot training and validation metrics\n",
        "plt.figure(figsize=(12, 4))\n",
        "\n",
        "plt.subplot(1, 2, 1)\n",
        "plt.plot(history.history['accuracy'], label='Training Accuracy')\n",
        "plt.plot(history.history['val_accuracy'], label='Validation Accuracy')\n",
        "plt.legend()\n",
        "plt.title('Accuracy over epochs')\n",
        "\n",
        "plt.subplot(1, 2, 2)\n",
        "plt.plot(history.history['loss'], label='Training Loss')\n",
        "plt.plot(history.history['val_loss'], label='Validation Loss')\n",
        "plt.legend()\n",
        "plt.title('Loss over epochs')\n",
        "\n",
        "plt.show()"
      ],
      "metadata": {
        "colab": {
          "base_uri": "https://localhost:8080/",
          "height": 391
        },
        "id": "XBsFPjupjYre",
        "outputId": "53a72b6e-8c98-478e-e643-78a072cf7ef1"
      },
      "execution_count": null,
      "outputs": [
        {
          "output_type": "display_data",
          "data": {
            "text/plain": [
              "<Figure size 1200x400 with 2 Axes>"
            ],
            "image/png": "[encoded data removed]"
          },
          "metadata": {}
        }
      ]
    }
  ]
}