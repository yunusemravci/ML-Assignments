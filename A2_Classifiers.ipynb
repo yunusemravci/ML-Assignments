{
  "nbformat": 4,
  "nbformat_minor": 0,
  "metadata": {
    "colab": {
      "provenance": [],
      "authorship_tag": "ABX9TyPW0BxDlO3oLrflOJFSBG39",
      "include_colab_link": true
    },
    "kernelspec": {
      "name": "python3",
      "display_name": "Python 3"
    },
    "language_info": {
      "name": "python"
    }
  },
  "cells": [
    {
      "cell_type": "markdown",
      "metadata": {
        "id": "view-in-github",
        "colab_type": "text"
      },
      "source": [
        "<a href=\"https://colab.research.google.com/github/yunusemravci/ML-Assignments/blob/master/A2_Classifiers.ipynb\" target=\"_parent\"><img src=\"https://colab.research.google.com/assets/colab-badge.svg\" alt=\"Open In Colab\"/></a>"
      ]
    },
    {
      "cell_type": "code",
      "source": [
        "from google.colab import drive\n",
        "drive.mount('/content/drive/')"
      ],
      "metadata": {
        "id": "iYoEx0nIZ_Dg"
      },
      "execution_count": null,
      "outputs": []
    },
    {
      "cell_type": "code",
      "execution_count": null,
      "metadata": {
        "id": "P3hnRZEkZmt4"
      },
      "outputs": [],
      "source": [
        "import pandas as pd\n",
        "from sklearn.preprocessing import StandardScaler\n",
        "from sklearn.model_selection import train_test_split\n",
        "from sklearn.model_selection import cross_val_score\n",
        "from sklearn.linear_model import LogisticRegression\n",
        "from sklearn.naive_bayes import GaussianNB\n",
        "from sklearn.tree import DecisionTreeClassifier\n",
        "from sklearn.ensemble import RandomForestClassifier\n",
        "from sklearn.neighbors import KNeighborsClassifier\n",
        "from sklearn.svm import LinearSVC\n",
        "from sklearn.model_selection import GridSearchCV\n",
        "from sklearn.model_selection import KFold\n",
        "\n",
        "# Setup K-fold Cross Validation with shuffling\n",
        "kf = KFold(n_splits=5, shuffle=True, random_state=42)\n",
        "\n",
        "#load the excel file\n",
        "data = pd.read_excel('/content/drive/MyDrive/HW3-ML/Concrete_Quality_Binary.xlsx')\n",
        "\n",
        "X = data.drop(columns=['Index', 'Concrete Quality'])\n",
        "y = data['Concrete Quality']\n",
        "\n",
        "# Scale the features\n",
        "scaler = StandardScaler()\n",
        "X_scaled = scaler.fit_transform(X)"
      ]
    },
    {
      "cell_type": "markdown",
      "source": [
        "# Models and Hyperparameter Grids"
      ],
      "metadata": {
        "id": "ubdpOsGBf1b7"
      }
    },
    {
      "cell_type": "code",
      "source": [
        "# Models\n",
        "models = {\n",
        "    \"Logistic Regression\": LogisticRegression(max_iter=10000),\n",
        "    \"KNN\": KNeighborsClassifier(),\n",
        "    \"Decision Tree\": DecisionTreeClassifier(),\n",
        "    \"Random Forest\": RandomForestClassifier(),\n",
        "    \"Linear SVM\": LinearSVC(max_iter=10000),\n",
        "    \"Naive Bayes\": GaussianNB()\n",
        "}\n",
        "\n",
        "# Hyperparameter grids\n",
        "param_grids = {\n",
        "    \"Logistic Regression\": {\"C\": [0.1, 1, 10]},\n",
        "    \"KNN\": {'n_neighbors': list(range(1, 31)),\n",
        "            'weights': ['uniform', 'distance'],\n",
        "            'p': [1, 2]},\n",
        "    \"Decision Tree\": {'criterion': ['gini', 'entropy'],\n",
        "                      'max_depth': [None, 3, 5, 7, 10, 20, 30, 40, 50],\n",
        "                      'min_samples_split': [2, 5, 10],\n",
        "                      'min_samples_leaf': [1, 2, 4]},\n",
        "    \"Random Forest\": {\"n_estimators\": [50, 100], \"max_depth\": [3, 5, 7]},\n",
        "    \"Linear SVM\": {'C': [0.1, 1.0, 10, 100],\n",
        "                   'penalty': ['l1', 'l2'],\n",
        "                   'dual': [False]  # This ensures the l1 penalty works without errors\n",
        "                   },\n",
        "    \"Naive Bayes\": {}  # No hyperparameters to tune for GaussianNB\n",
        "}"
      ],
      "metadata": {
        "id": "vWWips-6f6ZM"
      },
      "execution_count": null,
      "outputs": []
    },
    {
      "cell_type": "markdown",
      "source": [
        "# Train and Validate Models\n",
        "For each model, perform cross-validation and store average accuracies. Later, select the best model based on average accuracy."
      ],
      "metadata": {
        "id": "YOmLOM4bdpLG"
      }
    },
    {
      "cell_type": "code",
      "source": [
        "best_score = 0\n",
        "best_model_name = \"\"\n",
        "\n",
        "for model_name, model in models.items():\n",
        "    grid_search = GridSearchCV(model, param_grids[model_name], cv=kf)\n",
        "    grid_search.fit(X_scaled, y)\n",
        "    score = grid_search.best_score_\n",
        "\n",
        "    if score > best_score:\n",
        "        best_score = score\n",
        "        best_model_name = model_name\n",
        "\n",
        "    print(f\"{model_name}: Average Accuracy = {score:.4f}, Best Params = {grid_search.best_params_}\")\n",
        "\n",
        "print(f\"\\nThe best model is {best_model_name} with an average accuracy of {best_score:.4f}\")"
      ],
      "metadata": {
        "colab": {
          "base_uri": "https://localhost:8080/"
        },
        "id": "q0eTFLu1dSbh",
        "outputId": "5b4de40c-52f7-4a2d-d8d9-db8e6ad6d298"
      },
      "execution_count": null,
      "outputs": [
        {
          "output_type": "stream",
          "name": "stdout",
          "text": [
            "Logistic Regression: Average Accuracy = 0.9374, Best Params = {'C': 10}\n",
            "KNN: Average Accuracy = 0.9546, Best Params = {'n_neighbors': 4, 'p': 2, 'weights': 'distance'}\n",
            "Decision Tree: Average Accuracy = 0.9718, Best Params = {'criterion': 'entropy', 'max_depth': 30, 'min_samples_leaf': 1, 'min_samples_split': 2}\n",
            "Random Forest: Average Accuracy = 0.9828, Best Params = {'max_depth': 7, 'n_estimators': 50}\n",
            "Linear SVM: Average Accuracy = 0.9328, Best Params = {'C': 1.0, 'dual': False, 'penalty': 'l1'}\n",
            "Naive Bayes: Average Accuracy = 0.8624, Best Params = {}\n",
            "\n",
            "The best model is Random Forest with an average accuracy of 0.9828\n"
          ]
        }
      ]
    },
    {
      "cell_type": "markdown",
      "source": [
        "# Confusion Matrix and Its Accuracy for the Best Model:"
      ],
      "metadata": {
        "id": "ZREh2QDafgvd"
      }
    },
    {
      "cell_type": "code",
      "source": [
        "import matplotlib.pyplot as plt\n",
        "from sklearn.metrics import confusion_matrix\n",
        "import seaborn as sns\n",
        "\n",
        "# Predict using the entire dataset with best model which is Random Forest\n",
        "grid_search = GridSearchCV(RandomForestClassifier(), param_grids[\"Random Forest\"], cv=kf)\n",
        "grid_search.fit(X_scaled,y)\n",
        "y_pred = grid_search.predict(X_scaled)\n",
        "\n",
        "# Create the confusion matrix\n",
        "conf_matrix = confusion_matrix(y, y_pred)\n",
        "\n",
        "plt.figure(figsize=(8,6))\n",
        "sns.heatmap(conf_matrix, annot=True, fmt='g', cmap='Blues', cbar=False)\n",
        "plt.xlabel('Predicted')\n",
        "plt.ylabel('Actual')\n",
        "plt.title('Confusion Matrix')\n",
        "plt.show()\n",
        "acc = accuracy_score(y, y_pred)\n",
        "\n",
        "print(f\"\\nThe best model is {best_model_name} with an accuracy of {acc:.4f}\")\n"
      ],
      "metadata": {
        "colab": {
          "base_uri": "https://localhost:8080/",
          "height": 598
        },
        "id": "xb3ZB-WhfeWP",
        "outputId": "f6323f96-1c26-44f5-893c-435ce1d95784"
      },
      "execution_count": null,
      "outputs": [
        {
          "output_type": "display_data",
          "data": {
            "text/plain": [
              "<Figure size 800x600 with 1 Axes>"
            ],
            "image/png": "[encoded data removed]"
          },
          "metadata": {}
        },
        {
          "output_type": "stream",
          "name": "stdout",
          "text": [
            "\n",
            "The best model is Random Forest with an accuracy of 0.9953\n"
          ]
        }
      ]
    }
  ]
}